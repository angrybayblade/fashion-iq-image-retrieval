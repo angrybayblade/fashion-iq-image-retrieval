{
 "cells": [
  {
   "cell_type": "code",
   "execution_count": 2,
   "metadata": {},
   "outputs": [],
   "source": [
    "import json\n",
    "\n",
    "import numpy as np\n",
    "import matplotlib.pyplot as plt\n",
    "import plotly.express as ex\n",
    "\n",
    "from gensim.models import Word2Vec,KeyedVectors\n",
    "from sklearn.manifold import TSNE\n",
    "\n",
    "%matplotlib inline"
   ]
  },
  {
   "cell_type": "code",
   "execution_count": 3,
   "metadata": {},
   "outputs": [],
   "source": [
    "w2v = KeyedVectors.load_word2vec_format(\"./word_embeddings/gensim_w2v.model\")"
   ]
  },
  {
   "cell_type": "code",
   "execution_count": 4,
   "metadata": {},
   "outputs": [],
   "source": [
    "words = json.load(open(\"./data/words.json\",\"r\"))"
   ]
  },
  {
   "cell_type": "code",
   "execution_count": 5,
   "metadata": {},
   "outputs": [],
   "source": [
    "word_embeddings = np.array([\n",
    "    w2v[word]\n",
    "    for\n",
    "        word\n",
    "    in \n",
    "        words\n",
    "])"
   ]
  },
  {
   "cell_type": "code",
   "execution_count": 8,
   "metadata": {},
   "outputs": [],
   "source": [
    "tsne = TSNE(n_components=3,verbose=1)"
   ]
  },
  {
   "cell_type": "code",
   "execution_count": 9,
   "metadata": {},
   "outputs": [
    {
     "name": "stdout",
     "output_type": "stream",
     "text": [
      "[t-SNE] Computing 91 nearest neighbors...\n",
      "[t-SNE] Indexed 5829 samples in 0.037s...\n",
      "[t-SNE] Computed neighbors for 5829 samples in 3.698s...\n",
      "[t-SNE] Computed conditional probabilities for sample 1000 / 5829\n",
      "[t-SNE] Computed conditional probabilities for sample 2000 / 5829\n",
      "[t-SNE] Computed conditional probabilities for sample 3000 / 5829\n",
      "[t-SNE] Computed conditional probabilities for sample 4000 / 5829\n",
      "[t-SNE] Computed conditional probabilities for sample 5000 / 5829\n",
      "[t-SNE] Computed conditional probabilities for sample 5829 / 5829\n",
      "[t-SNE] Mean sigma: 0.056403\n",
      "[t-SNE] KL divergence after 250 iterations with early exaggeration: 80.735748\n",
      "[t-SNE] KL divergence after 1000 iterations: 1.882973\n"
     ]
    }
   ],
   "source": [
    "word_proj = tsne.fit_transform(word_embeddings,)"
   ]
  },
  {
   "cell_type": "code",
   "execution_count": 29,
   "metadata": {},
   "outputs": [],
   "source": [
    "fig = ex.scatter_3d(\n",
    "    x=word_proj[:,0],\n",
    "    y=word_proj[:,1],\n",
    "    z=word_proj[:,2],\n",
    "    hover_name=words\n",
    ")"
   ]
  },
  {
   "cell_type": "code",
   "execution_count": 30,
   "metadata": {},
   "outputs": [],
   "source": [
    "fig.write_html(\"./project.html\")"
   ]
  }
 ],
 "metadata": {
  "kernelspec": {
   "display_name": "Python 3",
   "language": "python",
   "name": "python3"
  },
  "language_info": {
   "codemirror_mode": {
    "name": "ipython",
    "version": 3
   },
   "file_extension": ".py",
   "mimetype": "text/x-python",
   "name": "python",
   "nbconvert_exporter": "python",
   "pygments_lexer": "ipython3",
   "version": "3.6.8"
  }
 },
 "nbformat": 4,
 "nbformat_minor": 4
}
